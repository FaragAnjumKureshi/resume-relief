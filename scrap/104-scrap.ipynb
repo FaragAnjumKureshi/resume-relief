{
 "cells": [
  {
   "cell_type": "code",
   "execution_count": 1,
   "metadata": {},
   "outputs": [],
   "source": [
    "from bs4 import BeautifulSoup\n",
    "import requests\n",
    "import pandas as pd\n",
    "import time"
   ]
  },
  {
   "cell_type": "code",
   "execution_count": 3,
   "metadata": {},
   "outputs": [],
   "source": [
    "resp = requests.get('https://go.104.com.tw/expats/joblist/?jobcat=2007000000&jobsource=expat_cat_en')\n",
    "doc = BeautifulSoup(resp.text, 'lxml')"
   ]
  },
  {
   "cell_type": "code",
   "execution_count": 9,
   "metadata": {},
   "outputs": [
    {
     "name": "stdout",
     "output_type": "stream",
     "text": [
      "https://go.104.com.tw/expats/job/?jobno=9ELiAgttwrz&jobsource=expat_cat_en\n",
      "https://go.104.com.tw/expats/job/?jobno=9ELiAgttwry&jobsource=expat_cat_en\n",
      "https://go.104.com.tw/expats/job/?jobno=9ELiAgttwrw&jobsource=expat_cat_en\n",
      "https://go.104.com.tw/expats/job/?jobno=9ELiAgttwng&jobsource=expat_cat_en\n",
      "https://go.104.com.tw/expats/job/?jobno=9ELiAgttwne&jobsource=expat_cat_en\n",
      "https://go.104.com.tw/expats/job/?jobno=9ELiAgttwnd&jobsource=expat_cat_en\n",
      "https://go.104.com.tw/expats/job/?jobno=9ELiAgsRdYX&jobsource=expat_cat_en\n",
      "https://go.104.com.tw/expats/job/?jobno=9ELiAU1fAe2&jobsource=expat_cat_en\n",
      "https://go.104.com.tw/expats/job/?jobno=9ELiAU1fAdy&jobsource=expat_cat_en\n",
      "https://go.104.com.tw/expats/job/?jobno=9ELiAU1fAdw&jobsource=expat_cat_en\n",
      "https://go.104.com.tw/expats/job/?jobno=9ELiAU1fAdv&jobsource=expat_cat_en\n",
      "https://go.104.com.tw/expats/job/?jobno=9ELiAU1fAZe&jobsource=expat_cat_en\n",
      "https://go.104.com.tw/expats/job/?jobno=9ELiAU1fAZd&jobsource=expat_cat_en\n",
      "https://go.104.com.tw/expats/job/?jobno=9ELiAU1fAZc&jobsource=expat_cat_en\n",
      "https://go.104.com.tw/expats/job/?jobno=9ELiAU1fAZY&jobsource=expat_cat_en\n",
      "https://go.104.com.tw/expats/job/?jobno=9ELiAMPi3yz&jobsource=expat_cat_en\n",
      "https://go.104.com.tw/expats/job/?jobno=9ELiAMNE4UG&jobsource=expat_cat_en\n",
      "https://go.104.com.tw/expats/job/?jobno=9ELiAMNE4UF&jobsource=expat_cat_en\n",
      "https://go.104.com.tw/expats/job/?jobno=9ELiAMNDjgC&jobsource=expat_cat_en\n",
      "https://go.104.com.tw/expats/job/?jobno=9ELiAMNDjgB&jobsource=expat_cat_en\n"
     ]
    }
   ],
   "source": [
    "for link in doc.find_all('a', class_='job-name'):\n",
    "    print(link['href'])"
   ]
  },
  {
   "cell_type": "code",
   "execution_count": 14,
   "metadata": {},
   "outputs": [],
   "source": [
    "article_url = 'https://go.104.com.tw/expats/job/?jobno=9ELiAgttwrz&jobsource=expat_cat_en'\n",
    "resp = requests.get(article_url)\n",
    "doc = BeautifulSoup(resp.text, 'lxml')"
   ]
  },
  {
   "cell_type": "code",
   "execution_count": 19,
   "metadata": {},
   "outputs": [
    {
     "data": {
      "text/plain": [
       "'Google_美商科高國際有限公司'"
      ]
     },
     "execution_count": 19,
     "metadata": {},
     "output_type": "execute_result"
    }
   ],
   "source": [
    "doc.find('div', class_='hero-info').find('a', class_='hero-head-company-title block-m-0 txt-gray-15 line-h-22').text.strip()"
   ]
  },
  {
   "cell_type": "code",
   "execution_count": 20,
   "metadata": {},
   "outputs": [
    {
     "data": {
      "text/plain": [
       "'Product Engineer, ARM Servers and Storage Systems'"
      ]
     },
     "execution_count": 20,
     "metadata": {},
     "output_type": "execute_result"
    }
   ],
   "source": [
    "doc.find('div', class_='hero-info').find('div', class_='hero-corp block-my-4').text.strip()"
   ]
  },
  {
   "cell_type": "code",
   "execution_count": 22,
   "metadata": {},
   "outputs": [
    {
     "data": {
      "text/plain": [
       "<i class=\"em em-briefcase\"></i>"
      ]
     },
     "execution_count": 22,
     "metadata": {},
     "output_type": "execute_result"
    }
   ],
   "source": [
    "doc.find('div', class_='hero-info').find('i', class_='em em-briefcase')"
   ]
  }
 ],
 "metadata": {
  "kernelspec": {
   "display_name": "main",
   "language": "python",
   "name": "python3"
  },
  "language_info": {
   "codemirror_mode": {
    "name": "ipython",
    "version": 3
   },
   "file_extension": ".py",
   "mimetype": "text/x-python",
   "name": "python",
   "nbconvert_exporter": "python",
   "pygments_lexer": "ipython3",
   "version": "3.11.11"
  }
 },
 "nbformat": 4,
 "nbformat_minor": 2
}
